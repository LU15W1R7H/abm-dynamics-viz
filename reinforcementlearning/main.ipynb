{
 "cells": [
  {
   "cell_type": "code",
   "execution_count": 1,
   "metadata": {},
   "outputs": [
    {
     "name": "stdout",
     "output_type": "stream",
     "text": [
      "Action Space: Discrete(4)\n",
      "Observation Space: Box([-1.5       -1.5       -5.        -5.        -3.1415927 -5.\n",
      " -0.        -0.       ], [1.5       1.5       5.        5.        3.1415927 5.        1.\n",
      " 1.       ], (8,), float32)\n",
      "Episode 1: Total Reward: -222.63012212603275\n",
      "Episode 2: Total Reward: -67.18489435211481\n",
      "Episode 3: Total Reward: -119.65159689137224\n"
     ]
    }
   ],
   "source": [
    "import gymnasium\n",
    "import numpy as np\n",
    "\n",
    "env = gymnasium.make('LunarLander-v2', render_mode='human')\n",
    "\n",
    "print(\"Action Space:\", env.action_space)\n",
    "print(\"Observation Space:\", env.observation_space)\n",
    "\n",
    "for episode in range(3):  # Run 3 episodes\n",
    "    observation = env.reset()  # Reset the environment to start a new episode\n",
    "    total_reward = 0\n",
    "\n",
    "    while True:\n",
    "        # Render the environment (optional, can be slow)\n",
    "        env.render()\n",
    "\n",
    "        # Take a random action (in this case, a random choice from the action space)\n",
    "        action = env.action_space.sample()\n",
    "\n",
    "        # Step the environment by applying the action\n",
    "        observation, reward, done, info = env.step(action)[:4]\n",
    "\n",
    "        total_reward += reward\n",
    "\n",
    "        if done:  # If the episode is finished\n",
    "            print(\"Episode {}: Total Reward: {}\".format(episode + 1, total_reward))\n",
    "            break\n",
    "\n",
    "env.close()  # Close the environment"
   ]
  },
  {
   "cell_type": "code",
   "execution_count": null,
   "metadata": {},
   "outputs": [],
   "source": []
  }
 ],
 "metadata": {
  "kernelspec": {
   "display_name": "Python 3",
   "language": "python",
   "name": "python3"
  },
  "language_info": {
   "codemirror_mode": {
    "name": "ipython",
    "version": 3
   },
   "file_extension": ".py",
   "mimetype": "text/x-python",
   "name": "python",
   "nbconvert_exporter": "python",
   "pygments_lexer": "ipython3",
   "version": "3.9.6"
  }
 },
 "nbformat": 4,
 "nbformat_minor": 2
}
